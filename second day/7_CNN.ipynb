{
 "cells": [
  {
   "cell_type": "code",
   "execution_count": 1,
   "metadata": {},
   "outputs": [],
   "source": [
    "#pip install --upgrade ipywidgets"
   ]
  },
  {
   "cell_type": "code",
   "execution_count": 2,
   "metadata": {},
   "outputs": [],
   "source": [
    "#pip install --upgrade tqdm"
   ]
  },
  {
   "cell_type": "code",
   "execution_count": 1,
   "metadata": {},
   "outputs": [
    {
     "name": "stdout",
     "output_type": "stream",
     "text": [
      "Files already downloaded and verified\n",
      "Epoch 1, Loss: 1.3038601733062485\n",
      "Epoch 2, Loss: 0.9407494016663813\n",
      "Trening zakończony.\n"
     ]
    }
   ],
   "source": [
    "import torch  # Importowanie biblioteki PyTorch\n",
    "import torch.nn as nn  # Importowanie modułu do tworzenia sieci neuronowych\n",
    "import torch.optim as optim  # Importowanie modułu do optymalizacji\n",
    "import torchvision  # Importowanie biblioteki torchvision\n",
    "import torchvision.transforms as transforms  # Importowanie modułu do transformacji danych\n",
    "\n",
    "# Przykład wczytywania i przetwarzania danych\n",
    "transform = transforms.Compose([\n",
    "    transforms.Resize((64, 64)),  # Zmniejszenie rozmiaru obrazów do 64x64 pikseli\n",
    "    transforms.ToTensor(),  # Konwersja obrazów na tensory\n",
    "    transforms.Normalize((0.5, 0.5, 0.5), (0.5, 0.5, 0.5))  # Normalizacja tensorów\n",
    "])\n",
    "\n",
    "# Wczytujemy dane\n",
    "train_dataset = torchvision.datasets.CIFAR10(root='./data', train=True, download=True, transform=transform)  # Wczytanie zbioru danych CIFAR-10 i zastosowanie transformacji\n",
    "train_loader = torch.utils.data.DataLoader(train_dataset, batch_size=32, shuffle=True, num_workers=2)  # Tworzenie dataloadera do trenowania\n",
    "\n",
    "# Definiujemy model\n",
    "class CNN(nn.Module):  # Definicja klasy modelu CNN\n",
    "    def __init__(self):\n",
    "        super(CNN, self).__init__()\n",
    "        self.conv1 = nn.Conv2d(3, 32, kernel_size=3, padding=1)  # Pierwsza warstwa konwolucyjna\n",
    "        self.conv2 = nn.Conv2d(32, 64, kernel_size=3, padding=1)  # Druga warstwa konwolucyjna\n",
    "        self.fc1 = nn.Linear(64 * 16 * 16, 128)  # Warstwa fully connected (w pełni połączona)\n",
    "        self.fc2 = nn.Linear(128, 10)  # Warstwa fully connected (w pełni połączona)\n",
    "\n",
    "    def forward(self, x):\n",
    "        x = torch.relu(self.conv1(x))  # Przepływ przez pierwszą warstwę konwolucyjną z funkcją aktywacji ReLU\n",
    "        x = torch.max_pool2d(x, 2)  # Max pooling\n",
    "        x = torch.relu(self.conv2(x))  # Przepływ przez drugą warstwę konwolucyjną z funkcją aktywacji ReLU\n",
    "        x = torch.max_pool2d(x, 2)  # Max pooling\n",
    "        x = x.view(-1, 64 * 16 * 16)  # Spłaszczenie tensora\n",
    "        x = torch.relu(self.fc1(x))  # Przepływ przez pierwszą warstwę fully connected z funkcją aktywacji ReLU\n",
    "        x = self.fc2(x)  # Przepływ przez drugą warstwę fully connected\n",
    "        return x\n",
    "\n",
    "# Inicjalizacja modelu\n",
    "model = CNN()\n",
    "\n",
    "# Trenowanie modelu\n",
    "criterion = nn.CrossEntropyLoss()  # Wybór funkcji straty CrossEntropy\n",
    "optimizer = optim.Adam(model.parameters(), lr=0.001)  # Wybór optymalizatora Adam z wybranym learning rate\n",
    "\n",
    "for epoch in range(2):  # Przykładowa liczba epok\n",
    "    running_loss = 0.0\n",
    "    for i, data in enumerate(train_loader, 0):\n",
    "        inputs, labels = data\n",
    "        optimizer.zero_grad()  # Resetowanie gradientów\n",
    "        outputs = model(inputs)  # Przepływ danych przez model\n",
    "        loss = criterion(outputs, labels)  # Obliczenie funkcji straty\n",
    "        loss.backward()  # Wsteczna propagacja\n",
    "        optimizer.step()  # Aktualizacja wag modelu\n",
    "        running_loss += loss.item()\n",
    "    print(f'Epoch {epoch + 1}, Loss: {running_loss / len(train_loader)}')  # Wyświetlenie bieżącej straty\n",
    "\n",
    "print('Trening zakończony.')\n",
    "\n",
    "# Zapis modelu\n",
    "torch.save(model.state_dict(), 'model.pth')  # Zapisanie stanu modelu do pliku 'model.pth'\n"
   ]
  }
 ],
 "metadata": {
  "kernelspec": {
   "display_name": "pytorch_env",
   "language": "python",
   "name": "python3"
  },
  "language_info": {
   "codemirror_mode": {
    "name": "ipython",
    "version": 3
   },
   "file_extension": ".py",
   "mimetype": "text/x-python",
   "name": "python",
   "nbconvert_exporter": "python",
   "pygments_lexer": "ipython3",
   "version": "3.11.3"
  },
  "orig_nbformat": 4
 },
 "nbformat": 4,
 "nbformat_minor": 2
}
